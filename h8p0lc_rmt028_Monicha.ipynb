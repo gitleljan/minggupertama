{
  "nbformat": 4,
  "nbformat_minor": 0,
  "metadata": {
    "colab": {
      "provenance": []
    },
    "kernelspec": {
      "name": "python3",
      "display_name": "Python 3"
    },
    "language_info": {
      "name": "python"
    }
  },
  "cells": [
    {
      "cell_type": "markdown",
      "source": [
        "## Perkenalan\n",
        "\n",
        "#Nama    : Monicha Lelly Awang\n",
        "#Batch   : 028"
      ],
      "metadata": {
        "id": "jxawDb5Yqwj1"
      }
    },
    {
      "cell_type": "markdown",
      "source": [
        "No, Nama Barang, Kategori Barang, Harga\n",
        "1, Sunlight Lemon, Sabun Cuci Piring, 13500\n",
        "2, DAIA, Sabun Cuci Baju, 5000\n"
      ],
      "metadata": {
        "id": "KvFGak-u5LHz"
      }
    },
    {
      "cell_type": "markdown",
      "source": [
        "## *Answer*\n"
      ],
      "metadata": {
        "id": "2kgq5QE9r5xk"
      }
    },
    {
      "cell_type": "code",
      "source": [
        "print('''\n",
        "============================\n",
        "Program Inventory Management\n",
        "============================\n",
        "\n",
        "Menu :\n",
        "1. Input Data\n",
        "2. Menampilkan Data\n",
        "''')\n",
        "\n",
        "choice = int(input(\"Pilih menu atau keluar = \"))\n",
        "if choice == 2:\n",
        "  print (\"Data belum tersedia, silahkan pilih menu 1 untuk isi data\")\n",
        "\n",
        "\n",
        "print('''\n",
        "==============\n",
        "Data Inventory\n",
        "==============\n",
        "''')\n",
        "\n",
        "\n",
        "\n",
        "\n",
        "\n",
        "\n",
        ""
      ],
      "metadata": {
        "colab": {
          "base_uri": "https://localhost:8080/"
        },
        "id": "JjEqCkODr_WS",
        "outputId": "0b154f49-9dc4-452c-bfc9-ded09a317b97"
      },
      "execution_count": 28,
      "outputs": [
        {
          "output_type": "stream",
          "name": "stdout",
          "text": [
            "\n",
            "============================\n",
            "Program Inventory Management\n",
            "============================\n",
            "\n",
            "Menu :\n",
            "1. Input Data\n",
            "2. Menampilkan Data\n",
            "\n",
            "Pilih menu atau keluar = 2\n",
            "Data belum tersedia, silahkan pilih menu 1 untuk isi data\n",
            "\n",
            "==============\n",
            "Data Inventory\n",
            "==============\n",
            "\n"
          ]
        }
      ]
    },
    {
      "cell_type": "code",
      "source": [
        "## inventory text\n",
        "\n",
        "No, Nama Barang, Kategori Barang, Harga\n",
        "1, Sunlight Lemon, Sabun Cuci Piring, 13500\n",
        "2, DAIA, Sabun Cuci Baju, 5000\n",
        "\n"
      ],
      "metadata": {
        "id": "Vdto2bdT6EwK"
      },
      "execution_count": null,
      "outputs": []
    },
    {
      "cell_type": "code",
      "source": [
        "print('''\n",
        "============================\n",
        "Program Inventory Management\n",
        "============================\n",
        "\n",
        "Menu :\n",
        "1. Input Data\n",
        "2. Menampilkan Data\n",
        "''')\n",
        "\n",
        "choice = int(input(\"Pilih menu atau keluar = \"))\n",
        "if choice == 1:\n",
        "  print ('''\n",
        "  =========================\n",
        "  Menu Input Data Inventory\n",
        "  =========================\n",
        "  ''')\n",
        "  data =open(\"inventory text\")\n",
        "\n",
        "\n"
      ],
      "metadata": {
        "id": "ZRrHQGiU4ULZ"
      },
      "execution_count": null,
      "outputs": []
    }
  ]
}